{
 "cells": [
  {
   "cell_type": "markdown",
   "metadata": {},
   "source": [
    "### Spotify API\n",
    "\n",
    "- 環境変数を ../_info/.env　(1個上の階層)\n",
    "- https://developer.spotify.com/console/\n",
    "- https://api.spotify.com/v1\n",
    "    - METHOD\tENDPOINT\tUSAGE\n",
    "    - GET\t/v1/artists/{id}/albums\tGet Artist's Albums\n",
    "    - GET\t/v1/artists/{id}/related-artists\tGet Artist's Related Artists\n",
    "    - GET\t/v1/artists/{id}/top-tracks\tGet Artist's Top Tracks\n",
    "    - GET\t/v1/artists/{id}\tGet Artist\n",
    "    - GET\t/v1/artists\tGet Several Artists"
   ]
  },
  {
   "cell_type": "code",
   "execution_count": null,
   "metadata": {},
   "outputs": [],
   "source": [
    "# Spotify\n",
    "import requests\n",
    "import dotenv\n",
    "dotenv.load_dotenv(\"../_info/.env\")\n",
    "import os\n",
    "\n",
    "CLIENT_ID = os.environ[\"CLIENT_ID\"]\n",
    "CLIENT_SECRET = os.environ[\"CLIENT_SECRET\"]\n",
    "artist_id = \"6U3ybJ9UHNKEdsH7ktGBZ7\"\n",
    "\n",
    "def auth(CLIENT_ID:str,CLIENT_SECRET:str)->str:\n",
    "    TOKEN_URL = 'https://accounts.spotify.com/api/token'\n",
    "    '''Get user authorization and set access token.'''\n",
    "    # Request authorization from user\n",
    "    payload = {\n",
    "        'Content-Type': 'application/x-www-form-urlencoded',\n",
    "        'grant_type': 'client_credentials',\n",
    "    }\n",
    "    # `auth=(CLIENT_ID, SECRET)` basically wraps an 'Authorization'\n",
    "    # header with value:\n",
    "    # b'Basic ' + b64encode((CLIENT_ID + ':' + SECRET).encode())\n",
    "    res = requests.post(TOKEN_URL, auth=(CLIENT_ID, CLIENT_SECRET), data=payload)\n",
    "    res_data = res.json()\n",
    "\n",
    "    access_token = res_data.get('access_token')\n",
    "    return access_token\n",
    "\n",
    "def get_related_artist_info(access_token:str)->json:\n",
    "    url = f\"https://api.spotify.com/v1/artists/{artist_id}/related-artists\"\n",
    "    headers = {'Authorization':f'Bearer {access_token}','Content-Type': 'application/json','Accept': 'application/json'}\n",
    "    response = requests.get(url, headers=headers)\n",
    "    return response.json()\n",
    "\n",
    "\n",
    "if __name__ == \"__main__\":\n",
    "    access_token = auth(CLIENT_ID,CLIENT_SECRET)\n",
    "    data = get_related_artist_info(access_token)\n",
    "    display(data)"
   ]
  },
  {
   "cell_type": "code",
   "execution_count": null,
   "metadata": {},
   "outputs": [],
   "source": [
    "# artistsのデータ構造\n",
    "{'external_urls': {'spotify': 'https://open.spotify.com/artist/5MbNzCW3qokGyoo9giHA3V'},\n",
    "   'followers': {'href': None, 'total': 680194},\n",
    "   'genres': ['atl hip hop',\n",
    "    'hip hop',\n",
    "    'psychedelic hip hop',\n",
    "    'rap',\n",
    "    'underground hip hop'],\n",
    "   'href': 'https://api.spotify.com/v1/artists/5MbNzCW3qokGyoo9giHA3V',\n",
    "   'id': '5MbNzCW3qokGyoo9giHA3V',\n",
    "   'images': [{'height': 640,\n",
    "     'url': 'https://i.scdn.co/image/ab6761610000e5eb4a703b05c4ae3fafeaec6be6',\n",
    "     'width': 640},\n",
    "    {'height': 320,\n",
    "     'url': 'https://i.scdn.co/image/ab676161000051744a703b05c4ae3fafeaec6be6',\n",
    "     'width': 320},\n",
    "    {'height': 160,\n",
    "     'url': 'https://i.scdn.co/image/ab6761610000f1784a703b05c4ae3fafeaec6be6',\n",
    "     'width': 160}"
   ]
  },
  {
   "cell_type": "code",
   "execution_count": 26,
   "metadata": {},
   "outputs": [
    {
     "name": "stdout",
     "output_type": "stream",
     "text": [
      "{'King Gnu', '菅田将暉', 'LiSA', 'RADWIMPS', 'flumpool', 'シェネル', 'HY', '西野カナ', 'back number', 'Mr.Children', '福山雅治', 'GReeeeN', '瑛人', 'DISH//', 'JY', '三代目 J SOUL BROTHERS from EXILE TRIBE', '優里', 'Official髭男dism', 'ONE OK ROCK', 'YOASOBI', 'コブクロ', 'Foorin', 'miwa', 'SEKAI NO OWARI', '米津玄師', '[Alexandros]', 'あいみょん', 'MONGOL800', 'WANIMA', 'Ado', 'ソナーポケット', 'スキマスイッチ'}\n"
     ]
    }
   ],
   "source": [
    "# 歴代人気アーティスト\n",
    "import requests\n",
    "from bs4 import BeautifulSoup\n",
    "url = \"https://www.uta-net.com/ranking/index.php\"\n",
    "\n",
    "response = requests.get(url)\n",
    "soup = BeautifulSoup(response.content)\n",
    "tbody_list = soup.find(\"tbody\",id=\"ranking-table-body\")\n",
    "tr_list = tbody_list.find_all(\"td\",class_=\"sp-none fw-bold\")\n",
    "\n",
    "artist_list = []\n",
    "for name in tr_list:\n",
    "    artist_list.append(name.text)\n",
    "\n",
    "print(set(artist_list))"
   ]
  }
 ],
 "metadata": {
  "interpreter": {
   "hash": "b3ba2566441a7c06988d0923437866b63cedc61552a5af99d1f4fb67d367b25f"
  },
  "kernelspec": {
   "display_name": "Python 3",
   "language": "python",
   "name": "python3"
  },
  "language_info": {
   "codemirror_mode": {
    "name": "ipython",
    "version": 3
   },
   "file_extension": ".py",
   "mimetype": "text/x-python",
   "name": "python",
   "nbconvert_exporter": "python",
   "pygments_lexer": "ipython3",
   "version": "3.7.3"
  }
 },
 "nbformat": 4,
 "nbformat_minor": 2
}
