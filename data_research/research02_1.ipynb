{
 "cells": [
  {
   "cell_type": "code",
   "execution_count": 1,
   "metadata": {},
   "outputs": [
    {
     "name": "stderr",
     "output_type": "stream",
     "text": [
      "C:\\Users\\lkxl1\\Anaconda3\\lib\\site-packages\\requests\\__init__.py:91: RequestsDependencyWarning: urllib3 (1.24.1) or chardet (4.0.0) doesn't match a supported version!\n",
      "  RequestsDependencyWarning)\n"
     ]
    }
   ],
   "source": [
    "import requests\n",
    "from dotenv import load_dotenv\n",
    "#(\"../_info/.env\")\n",
    "load_dotenv()\n",
    "\n",
    "# 環境変数を参照\n",
    "import os\n",
    "MYAPP_USER = os.getenv('MYAPP_USER')\n",
    "MYAPP_TOKEN = os.getenv('MYAPP_TOKEN')"
   ]
  },
  {
   "cell_type": "code",
   "execution_count": 2,
   "metadata": {},
   "outputs": [
    {
     "data": {
      "text/plain": [
       "'BQC53sEzn3yFTSHKX-g3pINB5U5mMJPM1tfVhwjF9OjsefatZHDCR646d2NQnDB8Sx6hy_zEsgUOGNW_oYXeHFRRiZNIxOhDGO5kxqqU-BjzNhR6CF-Oip9yRivLO7v74JEHqtk9ycqeO17mgmCaRRq_DR8fa75GiC_w75DFNk1cSdP2_E_qonAWO-dcbg'"
      ]
     },
     "execution_count": 2,
     "metadata": {},
     "output_type": "execute_result"
    }
   ],
   "source": [
    "MYAPP_TOKEN\n",
    "\n"
   ]
  },
  {
   "cell_type": "markdown",
   "metadata": {},
   "source": [
    "https://api.spotify.com/v1/audio-analysis/{id}\n",
    "あるアーティストに関連するアーティストを返す"
   ]
  },
  {
   "cell_type": "markdown",
   "metadata": {},
   "source": [
    "自分がフォローしているアーティストのID取得"
   ]
  },
  {
   "cell_type": "code",
   "execution_count": 10,
   "metadata": {},
   "outputs": [],
   "source": [
    "\n",
    "headers = {'Authorization':'Bearer'+' '+MYAPP_TOKEN, 'Content-Type': 'application/json','Accept': 'application/json'}\n",
    "response = requests.get('https://api.spotify.com/v1/me/following?type=artist', headers=headers)\n",
    "null = \"null\"\n",
    "data = eval(response.text)"
   ]
  },
  {
   "cell_type": "code",
   "execution_count": 11,
   "metadata": {
    "scrolled": true
   },
   "outputs": [
    {
     "name": "stdout",
     "output_type": "stream",
     "text": [
      "LiSA 0blbVefuxOGltDBa00dspv\n",
      "Yuuri 0ixzjrK1wkN2zWBXt3VW3W\n",
      "DISH// 0jJmZHZHNe8n24Y33z5Nil\n",
      "KOBUKURO 0llYwFIMgF9Jzmp4ZY7wbr\n",
      "Sukima Switch 0wRzWf3I4lUl9hdFF5uL0m\n",
      "GReeeeN 14T8NkbwXVZgbOvwnuGV89\n",
      "RADWIMPS 1EowJ1WwkMzkCkRomFhui7\n",
      "J SOUL BROTHERS III 1g51NlHKUXlgfvGP22m0uD\n",
      "[Alexandros] 1luOe8HkZQ7zwuaO2wuJqI\n",
      "Mr.Children 1qma7XhwZotCAucL7NHVLY\n",
      "Kenshi Yonezu 1snhtMLeb2DYoMOcVbb8iB\n",
      "MONGOL800 2zUQjYvy0TevSi4d3PjqQO\n",
      "Eito 32QmJ5obSke8YKDbQvVPUx\n",
      "miwa 3R3WEsfL1WC1zLiz3XG9K5\n",
      "Foorin 3h95Ve9m3Q07d8VG6V9hEU\n",
      "HY 3x621ItlHMtX7mrJ8QnEjM\n",
      "Kana Nishino 4DDoAL8n6ob19r3jOZEbJI\n",
      "Sonar Pocket 4kuP7AbiovQdVXJkRHeq4w\n",
      "Masaharu Fukuyama 5FGlhIQqewJRV8fx24toG0\n",
      "flumpool 5Kpt1mryjiwHa9goYPQG1o\n"
     ]
    }
   ],
   "source": [
    "data[\"artists\"][\"items\"][0][\"name\"]\n",
    "\n",
    "for artist in data[\"artists\"][\"items\"]:\n",
    "    print(artist[\"name\"], artist[\"id\"])"
   ]
  },
  {
   "cell_type": "code",
   "execution_count": null,
   "metadata": {},
   "outputs": [],
   "source": []
  },
  {
   "cell_type": "markdown",
   "metadata": {},
   "source": [
    "アーティストIDを取得して類似アーティストを提示"
   ]
  },
  {
   "cell_type": "code",
   "execution_count": 14,
   "metadata": {},
   "outputs": [],
   "source": [
    "artist = \"64tJ2EAv1R6UaZqc4iOCyj\"#アーティストのID\n",
    "\n",
    "headers = {'Authorization':'Bearer'+' '+MYAPP_TOKEN, 'Content-Type': 'application/json','Accept': 'application/json'}\n",
    "response = requests.get('https://api.spotify.com/v1/artists/'+artist+'/related-artists', headers=headers)"
   ]
  },
  {
   "cell_type": "code",
   "execution_count": 15,
   "metadata": {},
   "outputs": [],
   "source": [
    "null = \"null\"\n",
    "data = eval(response.text)\n",
    "#response.text"
   ]
  },
  {
   "cell_type": "code",
   "execution_count": 16,
   "metadata": {},
   "outputs": [
    {
     "name": "stdout",
     "output_type": "stream",
     "text": [
      "{'6mEQK9m2krja6X1cfsAjfl': 'Ado', '5Vo1hnCRmCM6M4thZCInCj': 'Official HIGE DANdism', '7kOrrFIBIBc8uCu2zbxbLv': 'yama', '0ixzjrK1wkN2zWBXt3VW3W': 'Yuuri', '4UK2Lzi6fBfUi9rpDt6cik': 'ヨルシカ', '1qM11R4ylJyQiPJ0DffE9z': 'Lilas Ikuta', '4SJ7qRgJYNXB9Yttzs4aSa': 'Ryokuoushoku Shakai', '38WbKH6oKAZskBhqDFA8Uj': 'ZUTOMAYO', '6wxfx1yhyqjCPYwwxJktR2': 'King Gnu', '6rs1KAoQnFalSqSU4LTh8g': 'back number', '0jWCX6zp4RjWrmZRxJ2uri': 'Novelbright', '2IUl3m1H1EQ7QfNbNWvgru': 'Vaundy', '45ft4DyTCEJfQwTBHXpdhM': 'milet', '0jJmZHZHNe8n24Y33z5Nil': 'DISH//', '4QvgGvpgzgyUOo8Yp8LDm9': 'Mrs. GREEN APPLE', '5kVZa4lFUmAQlBogl1fkd6': 'Aimyon', '1snhtMLeb2DYoMOcVbb8iB': 'Kenshi Yonezu', '6n4SsAp5VjvIBg3s9QCcPX': 'Masaki Suda', '0ySFZq3Wd0SQUyJUzmJAeb': 'sumika', '7HwzlRPa9Ad0I8rK0FPzzK': 'SEKAI NO OWARI'}\n"
     ]
    }
   ],
   "source": [
    "adict = {}\n",
    "data[\"artists\"][1][\"name\"]\n",
    "for i in (data[\"artists\"]):\n",
    "    adict[i[\"id\"]] = i[\"name\"]\n",
    "print(adict)"
   ]
  },
  {
   "cell_type": "code",
   "execution_count": 9,
   "metadata": {},
   "outputs": [
    {
     "name": "stdout",
     "output_type": "stream",
     "text": [
      "{'external_urls': {'spotify': 'https://open.spotify.com/artist/6mEQK9m2krja6X1cfsAjfl'}, 'followers': {'href': None, 'total': 952940}, 'genres': ['j-pop', 'japanese teen pop'], 'href': 'https://api.spotify.com/v1/artists/6mEQK9m2krja6X1cfsAjfl', 'id': '6mEQK9m2krja6X1cfsAjfl', 'images': [{'height': 640, 'url': 'https://i.scdn.co/image/ab6761610000e5ebca2e71ed2e3f9c2403f013f6', 'width': 640}, {'height': 320, 'url': 'https://i.scdn.co/image/ab67616100005174ca2e71ed2e3f9c2403f013f6', 'width': 320}, {'height': 160, 'url': 'https://i.scdn.co/image/ab6761610000f178ca2e71ed2e3f9c2403f013f6', 'width': 160}], 'name': 'Ado', 'popularity': 72, 'type': 'artist', 'uri': 'spotify:artist:6mEQK9m2krja6X1cfsAjfl'}\n"
     ]
    }
   ],
   "source": [
    "print(response.json()[\"artists\"][0])"
   ]
  },
  {
   "cell_type": "code",
   "execution_count": 59,
   "metadata": {},
   "outputs": [],
   "source": [
    "from networkx.readwrite import json_graph\n",
    "import json\n",
    "def save_json(filename,graph):\n",
    "    g = graph\n",
    "    g_json = json_graph.node_link_data(g)\n",
    "    json.dump(g_json,open(filename,'w'),indent=2)"
   ]
  },
  {
   "cell_type": "code",
   "execution_count": 60,
   "metadata": {},
   "outputs": [],
   "source": [
    "def read_json_file(filename):\n",
    "    graph = json_graph.loads(open(filename))\n",
    "    return graph"
   ]
  },
  {
   "cell_type": "code",
   "execution_count": 61,
   "metadata": {},
   "outputs": [
    {
     "name": "stderr",
     "output_type": "stream",
     "text": [
      "C:\\Users\\lkxl1\\Anaconda3\\lib\\site-packages\\networkx\\drawing\\nx_pylab.py:611: MatplotlibDeprecationWarning: isinstance(..., numbers.Number)\n",
      "  if cb.is_numlike(alpha):\n"
     ]
    },
    {
     "data": {
      "image/png": "[encoded data removed]",
      "text/plain": [
       "<Figure size 432x288 with 1 Axes>"
      ]
     },
     "metadata": {},
     "output_type": "display_data"
    },
    {
     "data": {
      "image/png": "[encoded data removed]",
      "text/plain": [
       "<Figure size 432x288 with 1 Axes>"
      ]
     },
     "metadata": {},
     "output_type": "display_data"
    }
   ],
   "source": [
    "from matplotlib import pyplot as plt \n",
    "import networkx as nx\n",
    "\n",
    "G = nx.Graph()\n",
    " \n",
    "# nodeデータの追加\n",
    "G.add_nodes_from([\"A\", \"B\", \"C\", \"D\", \"E\", \"F\"])\n",
    " \n",
    "# edgeデータの追加\n",
    "G.add_edges_from([(\"A\", \"B\"), (\"B\", \"C\"), (\"B\", \"F\"),(\"C\", \"D\"), (\"C\", \"E\"), (\"C\", \"F\"), (\"B\", \"F\")])\n",
    " \n",
    "# ネットワークの可視化\n",
    "nx.draw(G, with_labels = True)\n",
    "plt.show()\n",
    "\n",
    "nx.draw(G)\n",
    "nx.draw_random(G)\n",
    "nx.draw_circular(G)\n",
    "nx.draw_spectral(G)\n",
    "plt.show()"
   ]
  },
  {
   "cell_type": "code",
   "execution_count": 62,
   "metadata": {},
   "outputs": [],
   "source": [
    "save_json(\"aaa\",G)"
   ]
  },
  {
   "cell_type": "code",
   "execution_count": 68,
   "metadata": {},
   "outputs": [],
   "source": [
    "data = eval(response.text)"
   ]
  },
  {
   "cell_type": "code",
   "execution_count": 74,
   "metadata": {},
   "outputs": [
    {
     "data": {
      "text/plain": [
       "'Spillage Village'"
      ]
     },
     "execution_count": 74,
     "metadata": {},
     "output_type": "execute_result"
    }
   ],
   "source": [
    "data[\"artists\"][1][\"name\"]"
   ]
  },
  {
   "cell_type": "code",
   "execution_count": null,
   "metadata": {},
   "outputs": [],
   "source": [
    "\n",
    "https://qiita.com/kzm4269/items/081ff2fdb8a6b0a6112f\n"
   ]
  },
  {
   "cell_type": "markdown",
   "metadata": {},
   "source": [
    "類似アーティストのDICTをくっつけたリスト返す\n"
   ]
  },
  {
   "cell_type": "code",
   "execution_count": 36,
   "metadata": {},
   "outputs": [],
   "source": [
    "access_token = MYAPP_TOKEN\n",
    "def add_related_artist_array(selected_artist:dict,access_token)->list:\n",
    "    #selected_artist[ID] == name\n",
    "    related_artist = {}\n",
    "    headers = {'Authorization':'Bearer'+' '+access_token, 'Content-Type': 'application/json','Accept': 'application/json'}\n",
    "    for key in selected_artist.keys():\n",
    "        #get_related_artist_info(key)\n",
    "        response = requests.get('https://api.spotify.com/v1/artists/'+key+'/related-artists', headers=headers)\n",
    "        for artist in response.json()[\"artists\"]:\n",
    "            related_artist[artist[\"id\"]] = artist[\"name\"]\n",
    "    return [selected_artist, related_artist]"
   ]
  },
  {
   "cell_type": "code",
   "execution_count": 41,
   "metadata": {},
   "outputs": [
    {
     "name": "stdout",
     "output_type": "stream",
     "text": [
      "None\n"
     ]
    }
   ],
   "source": []
  },
  {
   "cell_type": "code",
   "execution_count": null,
   "metadata": {},
   "outputs": [],
   "source": []
  }
 ],
 "metadata": {
  "kernelspec": {
   "display_name": "Python 3",
   "language": "python",
   "name": "python3"
  },
  "language_info": {
   "codemirror_mode": {
    "name": "ipython",
    "version": 3
   },
   "file_extension": ".py",
   "mimetype": "text/x-python",
   "name": "python",
   "nbconvert_exporter": "python",
   "pygments_lexer": "ipython3",
   "version": "3.7.1"
  }
 },
 "nbformat": 4,
 "nbformat_minor": 2
}
